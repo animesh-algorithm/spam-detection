{
 "cells": [
  {
   "cell_type": "markdown",
   "metadata": {},
   "source": [
    "# SMS SPAM Classifier\n",
    "## Table of Content\n",
    "* [Importing Necessary Libraries](#lib)\n",
    "* [Importing the Dataset](#data)\n",
    "* [Creating Classification Report](#clf)\n",
    "* [Building Pipelines, Tuning Parameters and Displaying Classification Report](#build)\n",
    "* [Final Report: The Dilema of Accuracy and Precision](#final)\n",
    "* [Dumping the Best Pipeline](#dumping)"
   ]
  },
  {
   "cell_type": "markdown",
   "metadata": {},
   "source": [
    "## Importing Necessary Libraries <a id='lib'></a>"
   ]
  },
  {
   "cell_type": "code",
   "execution_count": 176,
   "metadata": {},
   "outputs": [],
   "source": [
    "import numpy as np\n",
    "import pandas as pd\n",
    "import matplotlib.pyplot as plt\n",
    "import seaborn as sns\n",
    "\n",
    "from sklearn.feature_extraction.text import CountVectorizer, TfidfVectorizer\n",
    "\n",
    "from sklearn.model_selection import train_test_split as tts, GridSearchCV\n",
    "from sklearn.pipeline import Pipeline\n",
    "\n",
    "from sklearn.naive_bayes import MultinomialNB\n",
    "from sklearn.metrics import confusion_matrix, accuracy_score, f1_score, precision_score, recall_score, roc_auc_score\n",
    "\n",
    "import pickle\n",
    "import warnings\n",
    "warnings.filterwarnings('ignore')"
   ]
  },
  {
   "cell_type": "markdown",
   "metadata": {},
   "source": [
    "## Importing Dataset <a id='data'></a>"
   ]
  },
  {
   "cell_type": "code",
   "execution_count": 155,
   "metadata": {},
   "outputs": [
    {
     "data": {
      "text/html": [
       "<div>\n",
       "<style scoped>\n",
       "    .dataframe tbody tr th:only-of-type {\n",
       "        vertical-align: middle;\n",
       "    }\n",
       "\n",
       "    .dataframe tbody tr th {\n",
       "        vertical-align: top;\n",
       "    }\n",
       "\n",
       "    .dataframe thead th {\n",
       "        text-align: right;\n",
       "    }\n",
       "</style>\n",
       "<table border=\"1\" class=\"dataframe\">\n",
       "  <thead>\n",
       "    <tr style=\"text-align: right;\">\n",
       "      <th></th>\n",
       "      <th>spam</th>\n",
       "      <th>msg_length</th>\n",
       "      <th>msg</th>\n",
       "    </tr>\n",
       "  </thead>\n",
       "  <tbody>\n",
       "    <tr>\n",
       "      <th>0</th>\n",
       "      <td>0</td>\n",
       "      <td>111</td>\n",
       "      <td>go jurong point crazy available bugis n great ...</td>\n",
       "    </tr>\n",
       "    <tr>\n",
       "      <th>1</th>\n",
       "      <td>0</td>\n",
       "      <td>29</td>\n",
       "      <td>ok lar joking wif u oni</td>\n",
       "    </tr>\n",
       "    <tr>\n",
       "      <th>2</th>\n",
       "      <td>1</td>\n",
       "      <td>155</td>\n",
       "      <td>free entry wkly comp win fa cup final tkts st ...</td>\n",
       "    </tr>\n",
       "    <tr>\n",
       "      <th>3</th>\n",
       "      <td>0</td>\n",
       "      <td>49</td>\n",
       "      <td>u dun say early hor u c already say</td>\n",
       "    </tr>\n",
       "    <tr>\n",
       "      <th>4</th>\n",
       "      <td>0</td>\n",
       "      <td>61</td>\n",
       "      <td>nah think go usf life around though</td>\n",
       "    </tr>\n",
       "  </tbody>\n",
       "</table>\n",
       "</div>"
      ],
      "text/plain": [
       "   spam  msg_length                                                msg\n",
       "0     0         111  go jurong point crazy available bugis n great ...\n",
       "1     0          29                            ok lar joking wif u oni\n",
       "2     1         155  free entry wkly comp win fa cup final tkts st ...\n",
       "3     0          49                u dun say early hor u c already say\n",
       "4     0          61                nah think go usf life around though"
      ]
     },
     "execution_count": 155,
     "metadata": {},
     "output_type": "execute_result"
    }
   ],
   "source": [
    "df = pd.read_csv('spam_sms_collection.csv').drop(['Unnamed: 0'], axis=1)\n",
    "df.dropna(inplace=True)\n",
    "df.head()"
   ]
  },
  {
   "cell_type": "markdown",
   "metadata": {},
   "source": [
    "## Creating Classification Report <a id='clf'></a>"
   ]
  },
  {
   "cell_type": "code",
   "execution_count": 156,
   "metadata": {},
   "outputs": [],
   "source": [
    "def create_classification_report(Y_test, Y_pred):\n",
    "    print('--------Classification Report---------\\n')\n",
    "    accuracy = accuracy_score(Y_test, Y_pred)\n",
    "    f1 = f1_score(Y_test, Y_pred)\n",
    "    precision = precision_score(Y_test, Y_pred)\n",
    "    recall = recall_score(Y_test, Y_pred)\n",
    "    roc_auc = roc_auc_score(Y_test, Y_pred)\n",
    "    metrices = [accuracy, f1, precision, recall, roc_auc]\n",
    "    scores = pd.DataFrame(pd.Series(metrices).values, index=['accuracy', 'f1-score', 'precision', 'recall', 'roc auc score'], columns=['score'])\n",
    "    print(scores)\n",
    "    print('\\n--------Plotting Confusion Matrix---------')\n",
    "    sns.heatmap(confusion_matrix(Y_test, Y_pred), annot=True, cmap='RdYlGn_r', annot_kws={'size': 16})\n",
    "    return scores"
   ]
  },
  {
   "cell_type": "code",
   "execution_count": 199,
   "metadata": {},
   "outputs": [],
   "source": [
    "X = df['msg'] # Independent Features\n",
    "Y = df['spam'] # Dependent Features\n",
    "X_train, X_test, Y_train, Y_test = tts(X, Y, test_size=0.2, random_state=44)"
   ]
  },
  {
   "cell_type": "markdown",
   "metadata": {},
   "source": [
    "## Building Pipelines, Tuning Parameters and Displaying Classification Report <a id='build'></a>"
   ]
  },
  {
   "cell_type": "code",
   "execution_count": 158,
   "metadata": {},
   "outputs": [],
   "source": [
    "pipe = Pipeline([\n",
    "    ('vectorizer', CountVectorizer()),\n",
    "    ('model', MultinomialNB())\n",
    "])\n",
    "param_grid = [\n",
    "    {\n",
    "        'vectorizer': [CountVectorizer()],\n",
    "        'vectorizer__max_features': [2500, 3000, 3500, 4000, 4500, 5000, 5500, 6000, 6500],\n",
    "        'model': [MultinomialNB()]\n",
    "    },\n",
    "    {\n",
    "        'vectorizer': [TfidfVectorizer()],\n",
    "        'vectorizer__max_features': [2500, 3000, 3500, 4000, 4500, 5000, 5500, 6000, 6500],\n",
    "        'model': [MultinomialNB()]\n",
    "    }\n",
    "]"
   ]
  },
  {
   "cell_type": "code",
   "execution_count": 159,
   "metadata": {},
   "outputs": [
    {
     "name": "stdout",
     "output_type": "stream",
     "text": [
      "--------Classification Report---------\n",
      "\n",
      "                  score\n",
      "accuracy       0.990117\n",
      "f1-score       0.961404\n",
      "precision      0.985612\n",
      "recall         0.938356\n",
      "roc auc score  0.968144\n",
      "\n",
      "--------Plotting Confusion Matrix---------\n"
     ]
    },
    {
     "data": {
      "image/png": "[encoded data removed]",
      "text/plain": [
       "<Figure size 432x288 with 2 Axes>"
      ]
     },
     "metadata": {
      "needs_background": "light"
     },
     "output_type": "display_data"
    }
   ],
   "source": [
    "best_pipeline = GridSearchCV(\n",
    "    estimator=pipe, \n",
    "    param_grid=param_grid, \n",
    "    cv=10, \n",
    "    scoring='accuracy', \n",
    "    n_jobs=1\n",
    ")\n",
    "pipeline1 = best_pipeline.fit(X_train, Y_train)\n",
    "Y_pred = best_pipeline.predict(X_test)\n",
    "scores1 = create_classification_report(Y_test, Y_pred)"
   ]
  },
  {
   "cell_type": "code",
   "execution_count": 160,
   "metadata": {},
   "outputs": [
    {
     "name": "stdout",
     "output_type": "stream",
     "text": [
      "--------Classification Report---------\n",
      "\n",
      "                  score\n",
      "accuracy       0.990117\n",
      "f1-score       0.961404\n",
      "precision      0.985612\n",
      "recall         0.938356\n",
      "roc auc score  0.968144\n",
      "\n",
      "--------Plotting Confusion Matrix---------\n"
     ]
    },
    {
     "data": {
      "image/png": "[encoded data removed]",
      "text/plain": [
       "<Figure size 432x288 with 2 Axes>"
      ]
     },
     "metadata": {
      "needs_background": "light"
     },
     "output_type": "display_data"
    }
   ],
   "source": [
    "best_pipeline = GridSearchCV(\n",
    "    estimator=pipe, \n",
    "    param_grid=param_grid, \n",
    "    cv=10, \n",
    "    scoring='f1', \n",
    "    n_jobs=1\n",
    ")\n",
    "pipeline2 = best_pipeline.fit(X_train, Y_train)\n",
    "Y_pred = best_pipeline.predict(X_test)\n",
    "scores2 = create_classification_report(Y_test, Y_pred)"
   ]
  },
  {
   "cell_type": "code",
   "execution_count": 161,
   "metadata": {},
   "outputs": [
    {
     "name": "stdout",
     "output_type": "stream",
     "text": [
      "--------Classification Report---------\n",
      "\n",
      "                  score\n",
      "accuracy       0.977538\n",
      "f1-score       0.906367\n",
      "precision      1.000000\n",
      "recall         0.828767\n",
      "roc auc score  0.914384\n",
      "\n",
      "--------Plotting Confusion Matrix---------\n"
     ]
    },
    {
     "data": {
      "image/png": "[encoded data removed]",
      "text/plain": [
       "<Figure size 432x288 with 2 Axes>"
      ]
     },
     "metadata": {
      "needs_background": "light"
     },
     "output_type": "display_data"
    }
   ],
   "source": [
    "best_pipeline = GridSearchCV(\n",
    "    estimator=pipe, \n",
    "    param_grid=param_grid, \n",
    "    cv=10, \n",
    "    scoring='precision', \n",
    "    n_jobs=1\n",
    ")\n",
    "pipeline3 = best_pipeline.fit(X_train, Y_train)\n",
    "Y_pred = best_pipeline.predict(X_test)\n",
    "scores3 = create_classification_report(Y_test, Y_pred)"
   ]
  },
  {
   "cell_type": "code",
   "execution_count": 162,
   "metadata": {},
   "outputs": [
    {
     "name": "stdout",
     "output_type": "stream",
     "text": [
      "--------Classification Report---------\n",
      "\n",
      "                  score\n",
      "accuracy       0.983827\n",
      "f1-score       0.934783\n",
      "precision      0.992308\n",
      "recall         0.883562\n",
      "roc auc score  0.941264\n",
      "\n",
      "--------Plotting Confusion Matrix---------\n"
     ]
    },
    {
     "data": {
      "image/png": "[encoded data removed]",
      "text/plain": [
       "<Figure size 432x288 with 2 Axes>"
      ]
     },
     "metadata": {
      "needs_background": "light"
     },
     "output_type": "display_data"
    }
   ],
   "source": [
    "best_pipeline = GridSearchCV(\n",
    "    estimator=pipe, \n",
    "    param_grid=param_grid, \n",
    "    cv=10, \n",
    "    scoring='roc_auc', \n",
    "    n_jobs=1\n",
    ")\n",
    "pipeline4 = best_pipeline.fit(X_train, Y_train)\n",
    "Y_pred = best_pipeline.predict(X_test)\n",
    "scores4 = create_classification_report(Y_test, Y_pred)"
   ]
  },
  {
   "cell_type": "markdown",
   "metadata": {},
   "source": [
    "## Final Report The Dilema of Accuracy and Precision<a id='final'></a>"
   ]
  },
  {
   "cell_type": "code",
   "execution_count": 170,
   "metadata": {},
   "outputs": [
    {
     "data": {
      "text/html": [
       "<div>\n",
       "<style scoped>\n",
       "    .dataframe tbody tr th:only-of-type {\n",
       "        vertical-align: middle;\n",
       "    }\n",
       "\n",
       "    .dataframe tbody tr th {\n",
       "        vertical-align: top;\n",
       "    }\n",
       "\n",
       "    .dataframe thead th {\n",
       "        text-align: right;\n",
       "    }\n",
       "</style>\n",
       "<table border=\"1\" class=\"dataframe\">\n",
       "  <thead>\n",
       "    <tr style=\"text-align: right;\">\n",
       "      <th></th>\n",
       "      <th>pipeline1</th>\n",
       "      <th>pipeline2</th>\n",
       "      <th>pipeline3</th>\n",
       "      <th>pipeline4</th>\n",
       "    </tr>\n",
       "  </thead>\n",
       "  <tbody>\n",
       "    <tr>\n",
       "      <th>accuracy</th>\n",
       "      <td>0.990117</td>\n",
       "      <td>0.990117</td>\n",
       "      <td>0.977538</td>\n",
       "      <td>0.983827</td>\n",
       "    </tr>\n",
       "    <tr>\n",
       "      <th>f1-score</th>\n",
       "      <td>0.961404</td>\n",
       "      <td>0.961404</td>\n",
       "      <td>0.906367</td>\n",
       "      <td>0.934783</td>\n",
       "    </tr>\n",
       "    <tr>\n",
       "      <th>precision</th>\n",
       "      <td>0.985612</td>\n",
       "      <td>0.985612</td>\n",
       "      <td>1.000000</td>\n",
       "      <td>0.992308</td>\n",
       "    </tr>\n",
       "    <tr>\n",
       "      <th>recall</th>\n",
       "      <td>0.938356</td>\n",
       "      <td>0.938356</td>\n",
       "      <td>0.828767</td>\n",
       "      <td>0.883562</td>\n",
       "    </tr>\n",
       "    <tr>\n",
       "      <th>roc auc score</th>\n",
       "      <td>0.968144</td>\n",
       "      <td>0.968144</td>\n",
       "      <td>0.914384</td>\n",
       "      <td>0.941264</td>\n",
       "    </tr>\n",
       "  </tbody>\n",
       "</table>\n",
       "</div>"
      ],
      "text/plain": [
       "               pipeline1  pipeline2  pipeline3  pipeline4\n",
       "accuracy        0.990117   0.990117   0.977538   0.983827\n",
       "f1-score        0.961404   0.961404   0.906367   0.934783\n",
       "precision       0.985612   0.985612   1.000000   0.992308\n",
       "recall          0.938356   0.938356   0.828767   0.883562\n",
       "roc auc score   0.968144   0.968144   0.914384   0.941264"
      ]
     },
     "execution_count": 170,
     "metadata": {},
     "output_type": "execute_result"
    }
   ],
   "source": [
    "results = pd.concat([scores1, scores2, scores3, scores4], axis=1)\n",
    "results.columns = ['pipeline1', 'pipeline2', 'pipeline3', 'pipeline4']\n",
    "results"
   ]
  },
  {
   "cell_type": "code",
   "execution_count": 174,
   "metadata": {},
   "outputs": [
    {
     "data": {
      "text/plain": [
       "<matplotlib.axes._subplots.AxesSubplot at 0x23e1778b6d0>"
      ]
     },
     "execution_count": 174,
     "metadata": {},
     "output_type": "execute_result"
    },
    {
     "data": {
      "image/png": "[encoded data removed]",
      "text/plain": [
       "<Figure size 432x288 with 1 Axes>"
      ]
     },
     "metadata": {
      "needs_background": "light"
     },
     "output_type": "display_data"
    }
   ],
   "source": [
    "results.plot(kind='line', linewidth=3)"
   ]
  },
  {
   "cell_type": "markdown",
   "metadata": {},
   "source": [
    "## Dumping the Best Pipeline <a id='dump'></a>"
   ]
  },
  {
   "cell_type": "code",
   "execution_count": 187,
   "metadata": {},
   "outputs": [],
   "source": [
    "file = open('best_pipeline.pkl', 'wb')\n",
    "pickle.dump(pipeline2, file)"
   ]
  },
  {
   "cell_type": "code",
   "execution_count": null,
   "metadata": {},
   "outputs": [],
   "source": []
  }
 ],
 "metadata": {
  "kernelspec": {
   "display_name": "Python 3",
   "language": "python",
   "name": "python3"
  },
  "language_info": {
   "codemirror_mode": {
    "name": "ipython",
    "version": 3
   },
   "file_extension": ".py",
   "mimetype": "text/x-python",
   "name": "python",
   "nbconvert_exporter": "python",
   "pygments_lexer": "ipython3",
   "version": "3.8.3"
  }
 },
 "nbformat": 4,
 "nbformat_minor": 4
}
